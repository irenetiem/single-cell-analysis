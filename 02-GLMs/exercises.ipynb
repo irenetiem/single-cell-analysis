{
 "cells": [
  {
   "cell_type": "markdown",
   "metadata": {},
   "source": [
    "# Exercises"
   ]
  },
  {
   "cell_type": "markdown",
   "metadata": {},
   "source": [
    "## Exercise 1\n",
    "---\n",
    "Determine the effect of stimulus sequence duration on RF estimates. To do this, repeat the above steps for different durations (5 s, 10 s, 20 s, 40 s, 80 s, 160 s, 320 s, 640 s). Compute the Pearson correlation between true and estimated RFs for each duration to quantify the accuracy of the estimator. The Pearson correlation $\\mathrm{cc}$ is defined as\n",
    "$$\n",
    "\\mathrm{cc} = \\frac{\\mathbf{k}_\\mathrm{true}^T \\hat{\\mathbf{k}}}{\\lVert \\mathbf{k}_\\mathrm{true} \\rVert \\lVert \\hat{\\mathbf{k}} \\rVert}\n",
    "$$\n",
    "where $\\lVert \\cdot \\rVert$ is the L2-norm (vector length).\n",
    "As the response generation process is stochastic, compute the average correlation across 10 realizations for the same duration and plot the average correlation as a function of duration. How is the recording duration related to the ability to recover the true RF? "
   ]
  },
  {
   "cell_type": "markdown",
   "metadata": {},
   "source": [
    "## Exercise 2\n",
    "---\n",
    "Determine the effect of response noise ($\\sigma^2$) on RF estimates. Try different value for the noise variance in the simulations, e.g., 0, 2, 4, 6, 8, and 10 for a duration of 100 s. As in the previous excercise, repeatedly estimate RF parameters for each condition (10 times) but this time also plot the standard deviation of the correlations across the different runs for each condition."
   ]
  },
  {
   "cell_type": "markdown",
   "metadata": {},
   "source": [
    "## Exercise 3\n",
    "---\n",
    "What happens if the neural response is related to the filtered stimulus by a nonlinear function  $r = f_\\mathrm{nonlinear}(\\mathbf{k}^T \\mathbf{s})$, e.g., by setting the `f_nonlin` argument in the data generation function to `f_threshold_quadratic` in excercise 1? Why does the linear estimator still provide a reliable estimate of the true RF? What happens if you use a full quadratic nonlinearity and set the `offset` term to 0? For more details, see Sharpee Ann Rev Neurosci (2013) (link in \"Background\" section)."
   ]
  },
  {
   "cell_type": "markdown",
   "metadata": {},
   "source": [
    "## Exercise 4\n",
    "---\n",
    "Look at the analytical derivation of the log-likelihood for the poisson GLM.\n",
    "Which of the terms are required for maximizing the likelihood with respect to $\\mathbf{k}$ and which terms can be ignored? **Note:** due to the independence of spikes in the different bins, the likelihood can be written as $P(R | S, \\mathbf{k}) = \\prod_t^T P(r_t | \\mathbf{s}_t, \\mathbf{k})$. The log turns the product into a sum which makes life much easier. \n",
    "\n",
    "\n"
   ]
  },
  {
   "cell_type": "markdown",
   "metadata": {},
   "source": [
    "## Exercise 5\n",
    "---\n",
    "Fit the linear-nonlinear model to some simulated data (duration = 100 s). For the exponential nonlinearity, the log-likelihood is a concave function. Thus, the parameters can be found using gradient descent. The scipy package provides the [minimize](https://docs.scipy.org/doc/scipy/reference/generated/scipy.optimize.minimize.html) function that can be used to **minimize the  negative log-likelihood** (which is equivalent to maximizing the log-likelihood). The minimize function supports a number of algorithms. As we can explicitly compute the gradient for this type of LNP model, algorithms that make use of the gradient are prefered as they are particularly fast, e.g., `method='Newton-CG'`. The function to compute the gradient need to be passed to the minimize method as a keyword agument: `jac=my_gradient_function`. Initialize the RF parameters using the spike-triggered average (STA)\n",
    "$$\n",
    " k_\\mathrm{STA} = \\frac{\\mathbf{S}^T \\mathbf{r}}{n_\\mathrm{spikes}}\n",
    "$$\n",
    "where $n_\\mathrm{spikes}$ is the total number of spikes in $\\mathbf{r}$. **Note:** the exponential nonlinearity is very sensitive to the scaling. To avoid numerical issues initialize the RF parameters with $\\mathbf{k}_\\mathrm{init} = \\frac{\\mathbf{k}_\\mathrm{STA}}{10}$."
   ]
  }
 ],
 "metadata": {
  "kernelspec": {
   "display_name": "Python 3.8.8 ('base')",
   "language": "python",
   "name": "python3"
  },
  "language_info": {
   "codemirror_mode": {
    "name": "ipython",
    "version": 3
   },
   "file_extension": ".py",
   "mimetype": "text/x-python",
   "name": "python",
   "nbconvert_exporter": "python",
   "pygments_lexer": "ipython3",
   "version": "3.8.8"
  },
  "vscode": {
   "interpreter": {
    "hash": "ec757111aa82fc412dab5a41ba1a33fdb6db5c8112df3ff06fec0dbff050b412"
   }
  }
 },
 "nbformat": 4,
 "nbformat_minor": 4
}
