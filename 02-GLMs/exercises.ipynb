{
  "cells": [
    {
      "cell_type": "markdown",
      "metadata": {
        "id": "uWQj9CAj4U1p"
      },
      "source": [
        "# Exercises"
      ]
    },
    {
      "cell_type": "code",
      "source": [
        "# import libraries\n",
        "import numpy as np\n",
        "import matplotlib.pyplot as plt\n",
        "import seaborn as sns\n",
        "import random\n",
        "\n",
        "sns.set_theme(context='notebook',style='white',font_scale=1,\n",
        "              rc = {'axes.spines.top':False,'axes.spines.right':False})"
      ],
      "metadata": {
        "id": "PzSXGeua4feE"
      },
      "execution_count": 1,
      "outputs": []
    },
    {
      "cell_type": "markdown",
      "metadata": {
        "id": "mX7nxwXF4U1s"
      },
      "source": [
        "## Exercise 1\n",
        "---\n",
        "Determine the effect of stimulus sequence duration on RF estimates. To do this, repeat the above steps for different durations (5 s, 10 s, 20 s, 40 s, 80 s, 160 s, 320 s, 640 s). Compute the Pearson correlation between true and estimated RFs for each duration to quantify the accuracy of the estimator. The Pearson correlation $\\mathrm{cc}$ is defined as\n",
        "$$\n",
        "\\mathrm{cc} = \\frac{\\mathbf{k}_\\mathrm{true}^T \\hat{\\mathbf{k}}}{\\lVert \\mathbf{k}_\\mathrm{true} \\rVert \\lVert \\hat{\\mathbf{k}} \\rVert}\n",
        "$$\n",
        "where $\\lVert \\cdot \\rVert$ is the L2-norm (vector length).\n",
        "As the response generation process is stochastic, compute the average correlation across 10 realizations for the same duration and plot the average correlation as a function of duration. How is the recording duration related to the ability to recover the true RF?"
      ]
    },
    {
      "cell_type": "code",
      "source": [
        "# set up\n",
        "\n",
        "stimulus_durations = np.array([5, 10, 20, 40, 80, 160, 320, 640]) #s\n",
        "\n",
        "plt.figure(figsize=(15,2))\n",
        "\n",
        "for i, duration in enumerate(stimulus_durations):\n",
        "\n",
        "  dt = .1\n",
        "  std_dev = 1\n",
        "  vf_size = (15,15)\n",
        "  n_bins = round(duration / float(dt))\n",
        "  S = std_dev * np.random.randn(n_bins,vf_size[0],vf_size[1])\n",
        "\n",
        "  # create receptive field\n",
        "  size = vf_size # size in pixel of our receptive field\n",
        "  mu = (8, 8) # center of the gabor pathc\n",
        "  sigma = (4,4) #size of the gabor patch\n",
        "  angle = 45 # orientation of the gabor patch\n",
        "  frequency = .085 # spatial frequency of the gabor patch\n",
        "  phase = 0 # pahse of the gabor pathc\n",
        "\n",
        "  xx, yy = np.meshgrid(1. + np.arange(size[0]),\n",
        "                          1. + np.arange(size[1]))\n",
        "\n",
        "  # Gaussian envelope\n",
        "  G = np.exp(- np.power(xx - mu[0], 2) / (2. * sigma[0])\n",
        "              - np.power(yy - mu[1], 2) / (2. * sigma[1]))\n",
        "\n",
        "  # spatial modulation\n",
        "  phi = np.deg2rad(angle)\n",
        "  xxr = xx * np.cos(phi)\n",
        "  yyr = yy * np.sin(phi)\n",
        "  xyr = (xxr + yyr) * 2. * np.pi * 2. * frequency\n",
        "  Sn = np.cos(xyr + phase)\n",
        "\n",
        "  K = G * Sn\n",
        "  K /= np.amax(np.abs(K))\n",
        "\n",
        "  plt.subplot(1,len(stimulus_durations),i+1)\n",
        "  plt.imshow(K)\n",
        "  plt.title(r'RF with duration {}'.format(duration))\n",
        "  plt.xlabel('x')\n",
        "  plt.ylabel('y')"
      ],
      "metadata": {
        "id": "IwRA1BiC5N4H",
        "outputId": "b31bbf5c-b3b8-4720-9095-81470884c608",
        "colab": {
          "base_uri": "https://localhost:8080/",
          "height": 234
        }
      },
      "execution_count": 4,
      "outputs": [
        {
          "output_type": "display_data",
          "data": {
            "text/plain": [
              "<Figure size 1500x300 with 8 Axes>"
            ],
            "image/png": "[encoded data removed]"
          },
          "metadata": {}
        }
      ]
    },
    {
      "cell_type": "markdown",
      "metadata": {
        "id": "mc-yE_Ci4U1u"
      },
      "source": [
        "## Exercise 2\n",
        "---\n",
        "Determine the effect of response noise ($\\sigma^2$) on RF estimates. Try different value for the noise variance in the simulations, e.g., 0, 2, 4, 6, 8, and 10 for a duration of 100 s. As in the previous excercise, repeatedly estimate RF parameters for each condition (10 times) but this time also plot the standard deviation of the correlations across the different runs for each condition."
      ]
    },
    {
      "cell_type": "markdown",
      "metadata": {
        "id": "8t03zGse4U1u"
      },
      "source": [
        "## Exercise 3\n",
        "---\n",
        "Look at the analytical derivation of the log-likelihood for the poisson GLM.\n",
        "Which of the terms are required for maximizing the likelihood with respect to $\\mathbf{k}$ and which terms can be ignored? **Note:** due to the independence of spikes in the different bins, the likelihood can be written as $P(R | S, \\mathbf{k}) = \\prod_t^T P(r_t | \\mathbf{s}_t, \\mathbf{k})$. The log turns the product into a sum which makes life much easier.\n",
        "\n",
        "\n"
      ]
    },
    {
      "cell_type": "markdown",
      "metadata": {
        "id": "zSKM-4YP4U1v"
      },
      "source": [
        "## Exercise 4\n",
        "---\n",
        "Explore the effect of the data duration and the firing rate on the goodness of fit of the Poisson GLM.\n",
        "\n",
        "A - Generate data with durations of 10,20,50,100 and 200 seconds. Fit the model on each dataset and plot the fitted parameters.\n",
        "Use the pearson correlation as a proxy of the goodness of fit, and plot it as a function of the duration of the data.\n",
        "\n",
        "B - Fix the duration to 100s, and change the average firing rate of the simulation. How does the fit perform for different firing rates?"
      ]
    }
  ],
  "metadata": {
    "kernelspec": {
      "display_name": "Python 3 (ipykernel)",
      "language": "python",
      "name": "python3"
    },
    "language_info": {
      "codemirror_mode": {
        "name": "ipython",
        "version": 3
      },
      "file_extension": ".py",
      "mimetype": "text/x-python",
      "name": "python",
      "nbconvert_exporter": "python",
      "pygments_lexer": "ipython3",
      "version": "3.11.0"
    },
    "vscode": {
      "interpreter": {
        "hash": "ec757111aa82fc412dab5a41ba1a33fdb6db5c8112df3ff06fec0dbff050b412"
      }
    },
    "colab": {
      "provenance": []
    }
  },
  "nbformat": 4,
  "nbformat_minor": 0
}