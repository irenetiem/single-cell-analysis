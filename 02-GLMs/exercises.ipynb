{
  "cells": [
    {
      "cell_type": "markdown",
      "metadata": {
        "id": "uWQj9CAj4U1p"
      },
      "source": [
        "# Exercises"
      ]
    },
    {
      "cell_type": "code",
      "source": [
        "# import libraries\n",
        "import numpy as np\n",
        "import matplotlib.pyplot as plt\n",
        "import seaborn as sns\n",
        "import random\n",
        "from scipy.optimize import minimize\n",
        "\n",
        "sns.set_theme(context='notebook',style='white',font_scale=1,\n",
        "              rc = {'axes.spines.top':False,'axes.spines.right':False})"
      ],
      "metadata": {
        "id": "PzSXGeua4feE"
      },
      "execution_count": 1,
      "outputs": []
    },
    {
      "cell_type": "markdown",
      "metadata": {
        "id": "mX7nxwXF4U1s"
      },
      "source": [
        "## Exercise 1\n",
        "---\n",
        "Determine the effect of stimulus sequence duration on RF estimates. To do this, repeat the above steps for different durations (5 s, 10 s, 20 s, 40 s, 80 s, 160 s, 320 s, 640 s). Compute the Pearson correlation between true and estimated RFs for each duration to quantify the accuracy of the estimator. The Pearson correlation $\\mathrm{cc}$ is defined as\n",
        "$$\n",
        "\\mathrm{cc} = \\frac{\\mathbf{k}_\\mathrm{true}^T \\hat{\\mathbf{k}}}{\\lVert \\mathbf{k}_\\mathrm{true} \\rVert \\lVert \\hat{\\mathbf{k}} \\rVert}\n",
        "$$\n",
        "where $\\lVert \\cdot \\rVert$ is the L2-norm (vector length).\n",
        "As the response generation process is stochastic, compute the average correlation across 10 realizations for the same duration and plot the average correlation as a function of duration. How is the recording duration related to the ability to recover the true RF?"
      ]
    },
    {
      "cell_type": "code",
      "source": [
        "def cc(K, k_est):\n",
        "  return np.inner(K.ravel(), k_est.ravel()) / (np.linalg.norm(K.ravel()) * np.linalg.norm(k_est.ravel()))"
      ],
      "metadata": {
        "id": "RI7f5MOPrUcU"
      },
      "execution_count": 10,
      "outputs": []
    },
    {
      "cell_type": "code",
      "source": [
        "# set up\n",
        "\n",
        "stimulus_durations = np.array([5, 10, 20, 40, 80, 160, 320, 640]) #s\n",
        "\n",
        "def generate_K():\n",
        "  dt = .1\n",
        "  std_dev = 1\n",
        "  vf_size = (15,15)\n",
        "  n_bins = round(duration / float(dt))\n",
        "  S = std_dev * np.random.randn(n_bins,vf_size[0],vf_size[1])\n",
        "\n",
        "  # create receptive field\n",
        "  size = vf_size # size in pixel of our receptive field\n",
        "  mu = (8, 8) # center of the gabor pathc\n",
        "  sigma = (4,4) #size of the gabor patch\n",
        "  angle = 45 # orientation of the gabor patch\n",
        "  frequency = .085 # spatial frequency of the gabor patch\n",
        "  phase = 0 # pahse of the gabor pathc\n",
        "\n",
        "  xx, yy = np.meshgrid(1. + np.arange(size[0]),\n",
        "                          1. + np.arange(size[1]))\n",
        "\n",
        "  # Gaussian envelope\n",
        "  G = np.exp(- np.power(xx - mu[0], 2) / (2. * sigma[0])\n",
        "              - np.power(yy - mu[1], 2) / (2. * sigma[1]))\n",
        "\n",
        "  # spatial modulation\n",
        "  phi = np.deg2rad(angle)\n",
        "  xxr = xx * np.cos(phi)\n",
        "  yyr = yy * np.sin(phi)\n",
        "  xyr = (xxr + yyr) * 2. * np.pi * 2. * frequency\n",
        "  Sn = np.cos(xyr + phase)\n",
        "\n",
        "  K = G * Sn\n",
        "  K /= np.amax(np.abs(K))\n",
        "\n",
        "  return K"
      ],
      "metadata": {
        "id": "IwRA1BiC5N4H"
      },
      "execution_count": 3,
      "outputs": []
    },
    {
      "cell_type": "code",
      "source": [
        "# functions from the notebook\n",
        "def generate_inhomogeneous_poisson_spikes(lamda, dt):\n",
        "\n",
        "    n_bins = lamda.shape[0]\n",
        "    bins = np.arange(n_bins+1)*dt\n",
        "\n",
        "    # generate Poisson distributed numbers for all bins with the max. intensity (lamda_max)\n",
        "    lamda_max = np.max(lamda)\n",
        "    poisson_numbers = np.random.poisson(lamda_max, size=n_bins)\n",
        "\n",
        "    # throw away numbers depending on the actual intensity (\"thinning\")\n",
        "    spike_times = []\n",
        "    prob = lamda / lamda_max\n",
        "    for i in range(n_bins):\n",
        "\n",
        "        # number of spikes to keep in this bin\n",
        "        n = np.sum(np.random.rand(poisson_numbers[i]) < prob[i])\n",
        "        n_s = int(round(n * dt))\n",
        "\n",
        "        # generate random spike times in this bin\n",
        "        ts = bins[i] + np.random.rand(n_s)*dt\n",
        "\n",
        "        spike_times.extend(ts)\n",
        "\n",
        "    return np.asarray(spike_times)\n",
        "\n",
        "# define functions for minimisation\n",
        "def cost(k, spike_counts, S,alpha=1):\n",
        "    #negative loglikelihood function to minimize\n",
        "    ks = np.dot(k, S.T)\n",
        "    lamda = np.exp(ks)\n",
        "    return -np.dot(spike_counts, ks) + dt * np.sum(lamda)\n",
        "\n",
        "\n",
        "def grad(k, spike_counts, S):\n",
        "    # expression of the gradient of the negative log likelihood (note the sign is flipped accordingly)\n",
        "\n",
        "    ks = np.dot(k, S.T)\n",
        "    lamda = np.exp(ks)\n",
        "    return -np.dot(S.T, spike_counts - dt*lamda)"
      ],
      "metadata": {
        "id": "NOVKP9iQqjWg"
      },
      "execution_count": 6,
      "outputs": []
    },
    {
      "cell_type": "code",
      "source": [
        "n_trials = 10\n",
        "\n",
        "dt = .1\n",
        "std_dev = 1\n",
        "vf_size = (15,15)\n",
        "noise_variance = 1\n",
        "offset = 2.\n",
        "\n",
        "PCs = np.zeros((len(stimulus_durations), n_trials))\n",
        "\n",
        "for i, duration in enumerate(stimulus_durations):\n",
        "\n",
        "  n_bins = round(duration / float(dt))\n",
        "  S = std_dev * np.random.randn(n_bins,vf_size[0],vf_size[1])\n",
        "\n",
        "  for trial in range(n_trials):\n",
        "\n",
        "    K = generate_K() # randomise for each trial\n",
        "\n",
        "    # flatten the matrices in to 1d array for convenience\n",
        "    K_flat = K.ravel()\n",
        "    K_flat = np.hstack((K.flat, offset))\n",
        "\n",
        "    S_flat = S.reshape(S.shape[0],S.shape[1]*S.shape[2])\n",
        "    S_flat = np.hstack((S_flat, np.ones((n_bins, 1))))\n",
        "\n",
        "\n",
        "    ks = np.dot(K_flat, S_flat.T)\n",
        "    rate = ks\n",
        "    rate = rate + np.sqrt(noise_variance) * np.random.randn(n_bins)\n",
        "\n",
        "    # pearson correlation\n",
        "    lamda = np.exp(ks)\n",
        "    spike_times = generate_inhomogeneous_poisson_spikes(lamda, dt)\n",
        "    spike_counts = np.histogram(spike_times, bins=np.arange(n_bins+1)*dt)[0]\n",
        "    k_STA = np.inner(S_flat.T, spike_counts) / np.sum(spike_counts)\n",
        "    res = minimize(fun = cost, x0 = k_STA / 10, args = (spike_counts, S_flat), method = 'Newton-CG', jac = grad)\n",
        "    K_est = res.x\n",
        "\n",
        "    PCs[i,trial] = cc(K, K_est[:-1])"
      ],
      "metadata": {
        "id": "QFwt22ykoc7U",
        "outputId": "cb53a632-6c8d-4a78-d198-6c21e09698ea",
        "colab": {
          "base_uri": "https://localhost:8080/"
        }
      },
      "execution_count": null,
      "outputs": [
        {
          "output_type": "stream",
          "name": "stderr",
          "text": [
            "<ipython-input-6-724273404>:30: RuntimeWarning: overflow encountered in exp\n",
            "  lamda = np.exp(ks)\n",
            "<ipython-input-6-724273404>:38: RuntimeWarning: overflow encountered in exp\n",
            "  lamda = np.exp(ks)\n",
            "<ipython-input-6-724273404>:30: RuntimeWarning: overflow encountered in exp\n",
            "  lamda = np.exp(ks)\n",
            "<ipython-input-6-724273404>:38: RuntimeWarning: overflow encountered in exp\n",
            "  lamda = np.exp(ks)\n",
            "<ipython-input-6-724273404>:30: RuntimeWarning: overflow encountered in exp\n",
            "  lamda = np.exp(ks)\n",
            "<ipython-input-6-724273404>:38: RuntimeWarning: overflow encountered in exp\n",
            "  lamda = np.exp(ks)\n",
            "<ipython-input-6-724273404>:30: RuntimeWarning: overflow encountered in exp\n",
            "  lamda = np.exp(ks)\n",
            "<ipython-input-6-724273404>:38: RuntimeWarning: overflow encountered in exp\n",
            "  lamda = np.exp(ks)\n",
            "<ipython-input-6-724273404>:30: RuntimeWarning: overflow encountered in exp\n",
            "  lamda = np.exp(ks)\n",
            "<ipython-input-6-724273404>:38: RuntimeWarning: overflow encountered in exp\n",
            "  lamda = np.exp(ks)\n",
            "<ipython-input-6-724273404>:30: RuntimeWarning: overflow encountered in exp\n",
            "  lamda = np.exp(ks)\n",
            "<ipython-input-6-724273404>:38: RuntimeWarning: overflow encountered in exp\n",
            "  lamda = np.exp(ks)\n",
            "<ipython-input-6-724273404>:30: RuntimeWarning: overflow encountered in exp\n",
            "  lamda = np.exp(ks)\n",
            "<ipython-input-6-724273404>:38: RuntimeWarning: overflow encountered in exp\n",
            "  lamda = np.exp(ks)\n",
            "<ipython-input-6-724273404>:30: RuntimeWarning: overflow encountered in exp\n",
            "  lamda = np.exp(ks)\n",
            "<ipython-input-6-724273404>:38: RuntimeWarning: overflow encountered in exp\n",
            "  lamda = np.exp(ks)\n",
            "<ipython-input-6-724273404>:30: RuntimeWarning: overflow encountered in exp\n",
            "  lamda = np.exp(ks)\n",
            "<ipython-input-6-724273404>:38: RuntimeWarning: overflow encountered in exp\n",
            "  lamda = np.exp(ks)\n",
            "<ipython-input-6-724273404>:30: RuntimeWarning: overflow encountered in exp\n",
            "  lamda = np.exp(ks)\n",
            "<ipython-input-6-724273404>:38: RuntimeWarning: overflow encountered in exp\n",
            "  lamda = np.exp(ks)\n",
            "<ipython-input-6-724273404>:30: RuntimeWarning: overflow encountered in exp\n",
            "  lamda = np.exp(ks)\n",
            "<ipython-input-6-724273404>:38: RuntimeWarning: overflow encountered in exp\n",
            "  lamda = np.exp(ks)\n",
            "<ipython-input-6-724273404>:30: RuntimeWarning: overflow encountered in exp\n",
            "  lamda = np.exp(ks)\n",
            "<ipython-input-6-724273404>:30: RuntimeWarning: overflow encountered in exp\n",
            "  lamda = np.exp(ks)\n",
            "<ipython-input-6-724273404>:38: RuntimeWarning: overflow encountered in exp\n",
            "  lamda = np.exp(ks)\n",
            "<ipython-input-6-724273404>:30: RuntimeWarning: overflow encountered in exp\n",
            "  lamda = np.exp(ks)\n",
            "<ipython-input-6-724273404>:30: RuntimeWarning: overflow encountered in exp\n",
            "  lamda = np.exp(ks)\n",
            "<ipython-input-6-724273404>:38: RuntimeWarning: overflow encountered in exp\n",
            "  lamda = np.exp(ks)\n",
            "<ipython-input-6-724273404>:30: RuntimeWarning: overflow encountered in exp\n",
            "  lamda = np.exp(ks)\n",
            "<ipython-input-6-724273404>:30: RuntimeWarning: overflow encountered in exp\n",
            "  lamda = np.exp(ks)\n",
            "<ipython-input-6-724273404>:38: RuntimeWarning: overflow encountered in exp\n",
            "  lamda = np.exp(ks)\n",
            "<ipython-input-6-724273404>:30: RuntimeWarning: overflow encountered in exp\n",
            "  lamda = np.exp(ks)\n",
            "<ipython-input-6-724273404>:30: RuntimeWarning: overflow encountered in exp\n",
            "  lamda = np.exp(ks)\n",
            "<ipython-input-6-724273404>:38: RuntimeWarning: overflow encountered in exp\n",
            "  lamda = np.exp(ks)\n",
            "<ipython-input-6-724273404>:30: RuntimeWarning: overflow encountered in exp\n",
            "  lamda = np.exp(ks)\n",
            "<ipython-input-6-724273404>:30: RuntimeWarning: overflow encountered in exp\n",
            "  lamda = np.exp(ks)\n",
            "<ipython-input-6-724273404>:38: RuntimeWarning: overflow encountered in exp\n",
            "  lamda = np.exp(ks)\n",
            "<ipython-input-6-724273404>:30: RuntimeWarning: overflow encountered in exp\n",
            "  lamda = np.exp(ks)\n",
            "<ipython-input-6-724273404>:30: RuntimeWarning: overflow encountered in exp\n",
            "  lamda = np.exp(ks)\n",
            "<ipython-input-6-724273404>:38: RuntimeWarning: overflow encountered in exp\n",
            "  lamda = np.exp(ks)\n",
            "<ipython-input-6-724273404>:30: RuntimeWarning: overflow encountered in exp\n",
            "  lamda = np.exp(ks)\n",
            "<ipython-input-6-724273404>:30: RuntimeWarning: overflow encountered in exp\n",
            "  lamda = np.exp(ks)\n",
            "<ipython-input-6-724273404>:38: RuntimeWarning: overflow encountered in exp\n",
            "  lamda = np.exp(ks)\n",
            "<ipython-input-6-724273404>:30: RuntimeWarning: overflow encountered in exp\n",
            "  lamda = np.exp(ks)\n",
            "<ipython-input-6-724273404>:30: RuntimeWarning: overflow encountered in exp\n",
            "  lamda = np.exp(ks)\n",
            "<ipython-input-6-724273404>:38: RuntimeWarning: overflow encountered in exp\n",
            "  lamda = np.exp(ks)\n",
            "<ipython-input-6-724273404>:30: RuntimeWarning: overflow encountered in exp\n",
            "  lamda = np.exp(ks)\n",
            "<ipython-input-6-724273404>:30: RuntimeWarning: overflow encountered in exp\n",
            "  lamda = np.exp(ks)\n",
            "<ipython-input-6-724273404>:38: RuntimeWarning: overflow encountered in exp\n",
            "  lamda = np.exp(ks)\n",
            "<ipython-input-6-724273404>:30: RuntimeWarning: overflow encountered in exp\n",
            "  lamda = np.exp(ks)\n"
          ]
        }
      ]
    },
    {
      "cell_type": "markdown",
      "metadata": {
        "id": "mc-yE_Ci4U1u"
      },
      "source": [
        "## Exercise 2\n",
        "---\n",
        "Determine the effect of response noise ($\\sigma^2$) on RF estimates. Try different value for the noise variance in the simulations, e.g., 0, 2, 4, 6, 8, and 10 for a duration of 100 s. As in the previous excercise, repeatedly estimate RF parameters for each condition (10 times) but this time also plot the standard deviation of the correlations across the different runs for each condition."
      ]
    },
    {
      "cell_type": "markdown",
      "metadata": {
        "id": "8t03zGse4U1u"
      },
      "source": [
        "## Exercise 3\n",
        "---\n",
        "Look at the analytical derivation of the log-likelihood for the poisson GLM.\n",
        "Which of the terms are required for maximizing the likelihood with respect to $\\mathbf{k}$ and which terms can be ignored? **Note:** due to the independence of spikes in the different bins, the likelihood can be written as $P(R | S, \\mathbf{k}) = \\prod_t^T P(r_t | \\mathbf{s}_t, \\mathbf{k})$. The log turns the product into a sum which makes life much easier.\n",
        "\n",
        "\n"
      ]
    },
    {
      "cell_type": "markdown",
      "metadata": {
        "id": "zSKM-4YP4U1v"
      },
      "source": [
        "## Exercise 4\n",
        "---\n",
        "Explore the effect of the data duration and the firing rate on the goodness of fit of the Poisson GLM.\n",
        "\n",
        "A - Generate data with durations of 10,20,50,100 and 200 seconds. Fit the model on each dataset and plot the fitted parameters.\n",
        "Use the pearson correlation as a proxy of the goodness of fit, and plot it as a function of the duration of the data.\n",
        "\n",
        "B - Fix the duration to 100s, and change the average firing rate of the simulation. How does the fit perform for different firing rates?"
      ]
    }
  ],
  "metadata": {
    "kernelspec": {
      "display_name": "Python 3 (ipykernel)",
      "language": "python",
      "name": "python3"
    },
    "language_info": {
      "codemirror_mode": {
        "name": "ipython",
        "version": 3
      },
      "file_extension": ".py",
      "mimetype": "text/x-python",
      "name": "python",
      "nbconvert_exporter": "python",
      "pygments_lexer": "ipython3",
      "version": "3.11.0"
    },
    "vscode": {
      "interpreter": {
        "hash": "ec757111aa82fc412dab5a41ba1a33fdb6db5c8112df3ff06fec0dbff050b412"
      }
    },
    "colab": {
      "provenance": []
    }
  },
  "nbformat": 4,
  "nbformat_minor": 0
}